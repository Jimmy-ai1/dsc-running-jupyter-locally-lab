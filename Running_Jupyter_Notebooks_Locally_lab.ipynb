{
  "cells": [
    {
      "cell_type": "markdown",
      "metadata": {
        "id": "view-in-github",
        "colab_type": "text"
      },
      "source": [
        "<a href=\"https://colab.research.google.com/github/Jimmy-ai1/dsc-running-jupyter-locally-lab/blob/master/Running_Jupyter_Notebooks_Locally_lab.ipynb\" target=\"_parent\"><img src=\"https://colab.research.google.com/assets/colab-badge.svg\" alt=\"Open In Colab\"/></a>"
      ]
    },
    {
      "cell_type": "markdown",
      "metadata": {
        "id": "Ke_tkoLik62W"
      },
      "source": [
        "# Running Jupyter Notebooks Locally - Lab"
      ]
    },
    {
      "cell_type": "markdown",
      "metadata": {
        "id": "IZLMbRn3k62g"
      },
      "source": [
        "## Introduction\n",
        "Now that we have had an introduction to the command line, have seen how to clone GitHub repos to our local machine (our computer), and have seen some common Jupyter Notebook operations, it's time to put our skills to the test!"
      ]
    },
    {
      "cell_type": "markdown",
      "metadata": {
        "id": "3CndtYiwk62h"
      },
      "source": [
        "## Objectives\n",
        "You will be able to:\n",
        "* Use basic commands to navigate the command line\n",
        "* Use bash commands to create new files and folders\n",
        "* Use `git clone` to clone a repository\n",
        "* Perform cell operations within Jupyter Notebooks"
      ]
    },
    {
      "cell_type": "markdown",
      "metadata": {
        "id": "_cn4omydk62i"
      },
      "source": [
        "## Setup\n",
        "\n",
        "Remember from the last lesson, you need to:\n",
        "1. Click on the \"GitHub\" logo in the top right of the Canvas Assignment (go back to the previous page if you already loaded the Lab in SaturnCloud!)\n",
        "2. Fork the repository on GitHub so you have your own copy there\n",
        "3. Copy the URL of your repository\n",
        "4. Open a terminal window (terminal on a Mac, Git Bash on Windows)\n",
        "5. Make sure to activate your conda virtual environment so you have the right version of Python and all of the necessary packages. On a mac or in Git Bash on Windows, type `conda activate learn-env`. (If you *have* to use the conda shell on windows, type `activate learn-env` instead).\n",
        "6. Clone (download) the files to your hard drive by typing `git clone ` and then pasting the URL of your repo you saved in step 3.\n",
        "7. Type `cd ` followed by the name of the directory you just created (running the `ls` command will show you the name of the directory you downloaded)\n",
        "7. Run the `jupyter notebook` command to start up Jupyter, and in the browser window that opens, navigate to and click on the `index.ipynb` notebook."
      ]
    },
    {
      "cell_type": "markdown",
      "metadata": {
        "id": "myBbSTSZk62k"
      },
      "source": [
        "## Instructions"
      ]
    },
    {
      "cell_type": "markdown",
      "metadata": {
        "id": "xxW-hdXJk62k"
      },
      "source": [
        "Assign the below variable `number` to the number `42` by replacing `None` with `42`."
      ]
    },
    {
      "cell_type": "code",
      "execution_count": 1,
      "metadata": {
        "id": "lk3h9d9_k62m",
        "outputId": "cbc4a055-131b-4272-fe38-2a60899fcb7c",
        "colab": {
          "base_uri": "https://localhost:8080/"
        }
      },
      "outputs": [
        {
          "output_type": "execute_result",
          "data": {
            "text/plain": [
              "42"
            ]
          },
          "metadata": {},
          "execution_count": 1
        }
      ],
      "source": [
        "number = 42\n",
        "number"
      ]
    },
    {
      "cell_type": "markdown",
      "metadata": {
        "id": "6CcVU5hHk62q"
      },
      "source": [
        "Next, like the above, reassign the `flatiron_mantra` variable with the string `\"Change Things\"` (make sure to include the double quotes!)"
      ]
    },
    {
      "cell_type": "code",
      "execution_count": 2,
      "metadata": {
        "id": "YbRt7GO8k62r",
        "outputId": "e8b4970b-29cb-42a1-d600-33c7d7eeb55e",
        "colab": {
          "base_uri": "https://localhost:8080/",
          "height": 35
        }
      },
      "outputs": [
        {
          "output_type": "execute_result",
          "data": {
            "text/plain": [
              "'Change Things'"
            ],
            "application/vnd.google.colaboratory.intrinsic+json": {
              "type": "string"
            }
          },
          "metadata": {},
          "execution_count": 2
        }
      ],
      "source": [
        "flatiron_mantra = \"Change Things\"\n",
        "flatiron_mantra"
      ]
    },
    {
      "cell_type": "markdown",
      "metadata": {
        "id": "LG_pIFSxk62s"
      },
      "source": [
        "Add a new markdown cell below this one and type `### This is a new header`"
      ]
    },
    {
      "cell_type": "markdown",
      "source": [
        "### This is a new header"
      ],
      "metadata": {
        "id": "MSecY0W8lD2Z"
      }
    },
    {
      "cell_type": "markdown",
      "metadata": {
        "id": "70C1D9Tuk62t"
      },
      "source": [
        "Now add a new code cell below this one and write whatever code you want to write."
      ]
    },
    {
      "cell_type": "markdown",
      "metadata": {
        "id": "bXNEHtgBk62t"
      },
      "source": [
        "As you can see, this works just the same as editing Jupyter notebooks using cloud tools, only now it's on your computer."
      ]
    },
    {
      "cell_type": "markdown",
      "metadata": {
        "id": "KUSf-rljk62t"
      },
      "source": [
        "## Summary\n",
        "Great work! We are well on our way to mastering Jupyter notebooks! We reviewed using the command line and `git clone`, running cells, and checking our outputs."
      ]
    }
  ],
  "metadata": {
    "kernelspec": {
      "display_name": "Python 3",
      "language": "python",
      "name": "python3"
    },
    "language_info": {
      "codemirror_mode": {
        "name": "ipython",
        "version": 3
      },
      "file_extension": ".py",
      "mimetype": "text/x-python",
      "name": "python",
      "nbconvert_exporter": "python",
      "pygments_lexer": "ipython3",
      "version": "3.8.5"
    },
    "colab": {
      "provenance": [],
      "include_colab_link": true
    }
  },
  "nbformat": 4,
  "nbformat_minor": 0
}